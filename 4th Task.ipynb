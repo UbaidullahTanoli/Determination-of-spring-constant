{
 "cells": [
  {
   "cell_type": "code",
   "execution_count": 1,
   "id": "f768a13a",
   "metadata": {},
   "outputs": [],
   "source": [
    "####################################################################################\n",
    "######By Muhammad Ubaidudullah Tanoli\n",
    "######Task for unit 4\n",
    "####################################################################################"
   ]
  },
  {
   "cell_type": "markdown",
   "id": "2bf6adf4",
   "metadata": {},
   "source": [
    "# **Determination of the spring constant**\n",
    "\n",
    "\n",
    "\n",
    "\n",
    "\n",
    "**The values used in this data are obtained from an experiment.** \n",
    "\n",
    "**The obervered extensions in the length of the spring are noted, with the reasonable uncertanity, against the repeated weights** \n",
    "\n",
    "**The aim of this programming is to plot the variables in order to:** \n",
    "\n",
    "-deduce *k*: the spring constant,\n",
    "\n",
    "-compare the weighted and unweighted error bars,\n",
    "\n",
    "-understand the significance of considering readings derived from graphs with weighted error bars."
   ]
  },
  {
   "cell_type": "code",
   "execution_count": 2,
   "id": "62341db6",
   "metadata": {},
   "outputs": [
    {
     "name": "stdout",
     "output_type": "stream",
     "text": [
      "Using matplotlib backend: <object object at 0x000002433A29D880>\n"
     ]
    }
   ],
   "source": [
    "###Importing the packages once and for all \n",
    "\n",
    "%matplotlib\n",
    "import matplotlib.pyplot as plt\n",
    "import numpy as np"
   ]
  },
  {
   "cell_type": "markdown",
   "id": "29de653e",
   "metadata": {},
   "source": [
    "**Finding m and c for weighted fit**"
   ]
  },
  {
   "cell_type": "code",
   "execution_count": 3,
   "id": "39cd0178",
   "metadata": {},
   "outputs": [
    {
     "name": "stdout",
     "output_type": "stream",
     "text": [
      "Using matplotlib backend: QtAgg\n",
      "The weighted gradient m = 0.08 +- 0.00\n",
      "The weighted y-intercept c = 617.92 +- 0.34\n"
     ]
    }
   ],
   "source": [
    "%matplotlib\n",
    "import matplotlib.pyplot as plt\n",
    "import numpy as np\n",
    "\n",
    "x, y, dy = np.loadtxt('spring.csv',delimiter=',',unpack=True)\n",
    "#Since the error is detected in the measurements of extensions, therefore the error is plotted on the y axis\n",
    "\n",
    "degree = 1 # Since a linear line is 1 degree polynomial\n",
    "\n",
    "coeffs, errors = np.polyfit(x,y,degree,w=1/dy,cov='unscaled')\n",
    "#using covariance matrix as unscaled because the residuals are weighted\n",
    "m, c = coeffs  # unpacking the gradient(m) and y-intercept(c) from output 1️⃣\n",
    "dm, dc = np.sqrt(np.diag(errors)) # errors are sqrt of diagonal terms 2️⃣\n",
    "\n",
    "# Gradient and y-intercept with uncertainities accurate to 2 decimal points\n",
    "print(f\"The weighted gradient m = {m:.2f} +- {dm:.2f}\")\n",
    "print(f\"The weighted y-intercept c = {c:.2f} +- {dc:.2f}\")"
   ]
  },
  {
   "cell_type": "code",
   "execution_count": 4,
   "id": "b1dc42a8",
   "metadata": {},
   "outputs": [],
   "source": [
    "#The x axis contains the value of the mass in grams, but I am not converting it into kg because the ratio will be the same (with the extension which happens to be in mm)."
   ]
  },
  {
   "cell_type": "markdown",
   "id": "cae796f9",
   "metadata": {},
   "source": [
    "**Plotting the best fit line**"
   ]
  },
  {
   "cell_type": "code",
   "execution_count": 13,
   "id": "d3e67989",
   "metadata": {},
   "outputs": [],
   "source": [
    "y = m*x + c\n",
    "# Set up graph\n",
    "plt.figure()\n",
    "plt.title(\"The line of best fit\")\n",
    "plt.xlabel(\"Mass of the load (grams)\")\n",
    "plt.ylabel(\"Extension in the spring (mm)\")\n",
    "plt.plot(x,y,'-')\n",
    "plt.grid(True)"
   ]
  },
  {
   "cell_type": "markdown",
   "id": "9f292487",
   "metadata": {},
   "source": [
    "**Finding m and c for unweighted fit**"
   ]
  },
  {
   "cell_type": "code",
   "execution_count": 6,
   "id": "7751c56c",
   "metadata": {},
   "outputs": [
    {
     "name": "stdout",
     "output_type": "stream",
     "text": [
      "The unweighted gradient (m) = 0.08 +- 0.00\n",
      "The unweighted y-intercept (c) = 617.92 +- 0.16\n"
     ]
    }
   ],
   "source": [
    "x, y, dy = np.loadtxt('spring.csv',delimiter=',',unpack=True)\n",
    "degree=1\n",
    "coeffs_uw, errors_uw = np.polyfit(x,y,degree,cov=True)\n",
    "m_uw, c_uw = coeffs_uw  # unpacking the gradient(m) and y-intercept(c) from output 1️⃣\n",
    "dm_uw, dc_uw = np.sqrt(np.diag(errors_uw))\n",
    "\n",
    "# Gradient and y-intercept with uncertainities accurate to 2 decimal points\n",
    "print(f\"The unweighted gradient (m) = {m_uw:.2f} +- {dm_uw:.2f}\")\n",
    "print(f\"The unweighted y-intercept (c) = {c_uw:.2f} +- {dc_uw:.2f}\")"
   ]
  },
  {
   "cell_type": "markdown",
   "id": "004b0c6d",
   "metadata": {},
   "source": [
    "**Comparing the graphs of weighted and unweighted fit**"
   ]
  },
  {
   "cell_type": "code",
   "execution_count": 15,
   "id": "37b6a210",
   "metadata": {},
   "outputs": [
    {
     "data": {
      "text/plain": [
       "<matplotlib.legend.Legend at 0x2433dcaf910>"
      ]
     },
     "execution_count": 15,
     "metadata": {},
     "output_type": "execute_result"
    }
   ],
   "source": [
    "# Calculate coordinates to plot unweighted fit\n",
    "\n",
    "y_uw  = m_uw * x + c_uw\n",
    "\n",
    "# Set up graph\n",
    "plt.figure()\n",
    "plt.title(\"Comparing weighted and unweighted fits\")\n",
    "plt.xlabel(\"Mass of the load (grams)\")\n",
    "plt.ylabel(\"Extension in the spring (mm)\")\n",
    "\n",
    "# Plot data and lines\n",
    "plt.errorbar(x,y,yerr=dy,fmt='.',label=\"data\")\n",
    "plt.plot(x,y,'-',label='weighted fit')\n",
    "plt.plot(x,y_uw,'-',label='unweighted fit')\n",
    "plt.legend()"
   ]
  },
  {
   "cell_type": "code",
   "execution_count": 8,
   "id": "085d0b82",
   "metadata": {},
   "outputs": [],
   "source": [
    "#The weighted fit intercept all the data points while the unweighted fit passes through each set, thereby not being a linear line.\n",
    "#The uncertainity in gradient(m) in both the fits is same, ie 0.\n",
    "#However,there is a difference of uncertainity in the value of y-intercept(c): the uncertainity in c of unweighted fit is half the value of that in weighted fit."
   ]
  },
  {
   "cell_type": "code",
   "execution_count": 9,
   "id": "c763b25b",
   "metadata": {},
   "outputs": [],
   "source": [
    "#Since W=mg, therefore the force equals 9.81m"
   ]
  },
  {
   "cell_type": "code",
   "execution_count": 10,
   "id": "e8e3fff4",
   "metadata": {},
   "outputs": [
    {
     "name": "stdout",
     "output_type": "stream",
     "text": [
      "k = 119.91101223581673 N/m\n"
     ]
    }
   ],
   "source": [
    "#k = 9.81*x/y =9.8/m\n",
    "k = 9.8/m\n",
    "print(f\"k = {k} N/m\")"
   ]
  },
  {
   "cell_type": "code",
   "execution_count": 11,
   "id": "fac6cca5",
   "metadata": {},
   "outputs": [],
   "source": [
    "#No uncertanity in k since no uncertanity in m in either."
   ]
  },
  {
   "cell_type": "code",
   "execution_count": 12,
   "id": "87bfe12a",
   "metadata": {},
   "outputs": [],
   "source": [
    "#References;\n",
    "#1️⃣ paraphrasing the comment from the lab script of unit 4, course Computing\n",
    "#2️⃣ taking the line from the lab script of unit 4, course Computing"
   ]
  }
 ],
 "metadata": {
  "kernelspec": {
   "display_name": "Python 3 (ipykernel)",
   "language": "python",
   "name": "python3"
  },
  "language_info": {
   "codemirror_mode": {
    "name": "ipython",
    "version": 3
   },
   "file_extension": ".py",
   "mimetype": "text/x-python",
   "name": "python",
   "nbconvert_exporter": "python",
   "pygments_lexer": "ipython3",
   "version": "3.9.12"
  }
 },
 "nbformat": 4,
 "nbformat_minor": 5
}
